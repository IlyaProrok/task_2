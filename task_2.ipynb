{
  "nbformat": 4,
  "nbformat_minor": 0,
  "metadata": {
    "colab": {
      "name": "Untitled0.ipynb",
      "provenance": [],
      "authorship_tag": "ABX9TyNQVhY4PuW/XTuV52ujYwz8"
    },
    "kernelspec": {
      "name": "python3",
      "display_name": "Python 3"
    },
    "accelerator": "GPU"
  },
  "cells": [
    {
      "cell_type": "code",
      "metadata": {
        "id": "D23shHki5_KR",
        "colab_type": "code",
        "outputId": "8885a3e2-492e-435a-8743-a3b012ffae89",
        "colab": {
          "base_uri": "https://localhost:8080/",
          "height": 156
        }
      },
      "source": [
        "pip install lyricsgenius\n",
        "!pip install -U pip\n",
        "!pip install -U dill\n",
        "!pip install -U nltk==3.4"
      ],
      "execution_count": 0,
      "outputs": [
        {
          "output_type": "stream",
          "text": [
            "Requirement already satisfied: lyricsgenius in /usr/local/lib/python3.6/dist-packages (1.8.2)\n",
            "Requirement already satisfied: beautifulsoup4==4.6.0 in /usr/local/lib/python3.6/dist-packages (from lyricsgenius) (4.6.0)\n",
            "Requirement already satisfied: requests>=2.20.0 in /usr/local/lib/python3.6/dist-packages (from lyricsgenius) (2.21.0)\n",
            "Requirement already satisfied: idna<2.9,>=2.5 in /usr/local/lib/python3.6/dist-packages (from requests>=2.20.0->lyricsgenius) (2.8)\n",
            "Requirement already satisfied: urllib3<1.25,>=1.21.1 in /usr/local/lib/python3.6/dist-packages (from requests>=2.20.0->lyricsgenius) (1.24.3)\n",
            "Requirement already satisfied: certifi>=2017.4.17 in /usr/local/lib/python3.6/dist-packages (from requests>=2.20.0->lyricsgenius) (2019.11.28)\n",
            "Requirement already satisfied: chardet<3.1.0,>=3.0.2 in /usr/local/lib/python3.6/dist-packages (from requests>=2.20.0->lyricsgenius) (3.0.4)\n"
          ],
          "name": "stdout"
        }
      ]
    },
    {
      "cell_type": "code",
      "metadata": {
        "id": "2huXugIXfZNd",
        "colab_type": "code",
        "outputId": "cc80101a-917c-4375-ca04-f6e32bf704fa",
        "colab": {
          "base_uri": "https://localhost:8080/",
          "height": 51
        }
      },
      "source": [
        "import lyricsgenius\n",
        "import pandas as pd\n",
        "import numpy as np\n",
        "import nltk\n",
        "nltk.download('punkt')\n",
        "from nltk import word_tokenize\n",
        "from nltk import sent_tokenize\n",
        "from nltk import tokenize\n",
        "from nltk.tokenize import LineTokenizer"
      ],
      "execution_count": 0,
      "outputs": [
        {
          "output_type": "stream",
          "text": [
            "[nltk_data] Downloading package punkt to /root/nltk_data...\n",
            "[nltk_data]   Package punkt is already up-to-date!\n"
          ],
          "name": "stderr"
        }
      ]
    },
    {
      "cell_type": "code",
      "metadata": {
        "id": "cULWJubXfe2e",
        "colab_type": "code",
        "colab": {}
      },
      "source": [
        "genius = lyricsgenius.Genius(\"iihP9u6cVKE79Xtu99OH6rVZlMUzIMeOvIVs8BDQNDeVmZhXJXEaI28E6QOc4BdB\")\n",
        "genius.remove_section_headers = True"
      ],
      "execution_count": 0,
      "outputs": []
    },
    {
      "cell_type": "code",
      "metadata": {
        "id": "SEuo5G2ZA3mO",
        "colab_type": "code",
        "outputId": "03eb55ec-7459-4e99-dc9f-9c14abf353df",
        "colab": {
          "base_uri": "https://localhost:8080/",
          "height": 952
        }
      },
      "source": [
        "artist = genius.search_artist(\"Oxxxymiron\", max_songs=50, sort=\"title\")"
      ],
      "execution_count": 0,
      "outputs": [
        {
          "output_type": "stream",
          "text": [
            "Searching for songs by Oxxxymiron...\n",
            "\n",
            "Song 1: \"16 Bars Acapella\"\n",
            "Song 2: \"Afterparty (Demo)\"\n",
            "Song 3: \"AI Ogon\"\n",
            "Song 4: \"Amplify and simplify (Freestyle)\"\n",
            "Song 5: \"CCTV\"\n",
            "Song 6: \"Darkside\"\n",
            "Song 7: \"Freestyle #1\"\n",
            "Song 8: \"Ganz Promo Tune\"\n",
            "Song 9: \"Hangover\"\n",
            "Song 10: \"HPL\"\n",
            "Song 11: \"IMPERIVM\"\n",
            "Song 12: \"Intro\"\n",
            "Song 13: \"OXXXYMIRON\"\n",
            "Song 14: \"Russky Cockney\"\n",
            "Song 15: \"Shade 45 Freestyle (Идея)\"\n",
            "Song 16: \"Street Freestyle battle\"\n",
            "Song 17: \"Ultima Thule\"\n",
            "Song 18: \"Unreleased Track\"\n",
            "Song 19: \"Unreleased Track 2\"\n",
            "Song 20: \"Unreleased Track 3\"\n",
            "Song 21: \"Unreleased Track 4\"\n",
            "Song 22: \"XXX SHOP\"\n",
            "Song 23: \"Башня из слоновой кости (Ivory Tower)\"\n",
            "Song 24: \"Биполярочка (Bipolarochka)\"\n",
            "Song 25: \"Больше Бена (Bigga Than Ben)\"\n",
            "Song 26: \"В бульбуляторе (In the Bong)\"\n",
            "Song 27: \"В говне (In Shit)\"\n",
            "Song 28: \"В долгий путь (1 раунд 17ib) (On a Long Journey)\"\n",
            "Song 29: \"Ветер перемен (2 раунд 17ib) (The Wind of Change)\"\n",
            "Song 30: \"Вечный жид (Everlasting Jew)\"\n",
            "Song 31: \"Витязи словоблудия (Уховертка) (The Knights of Verbiage (Earwig))\"\n",
            "Song 32: \"В книге всё было по-другому (4 раунд 17ib) (The Book Had It Different)\"\n",
            "Song 33: \"Волапюк (Volapük)\"\n",
            "Song 34: \"Восточный Мордор (East Mordor)\"\n",
            "Song 35: \"Всего лишь писатель (Just a Writer)\"\n",
            "Song 36: \"В стране женщин (In the country of women)\"\n",
            "Song 37: \"«Где нас нет» (”On the Other Side”)\"\n",
            "Song 38: \"Город под подошвой (City Under the Sole)\"\n",
            "Song 39: \"Город под подошвой (GPP tour version)\"\n",
            "Song 40: \"Девочка Пиздец (Devochka Pizdets) (2011/2012 demo)\"\n",
            "Song 41: \"Девочка Пиздец (Fucked Up Girl)\"\n",
            "Song 42: \"Дело нескольких минут (3 раунд 17ib) (A Matter of Minutes)\"\n",
            "Song 43: \"День физкультурника (Athlete’s Day)\"\n",
            "Song 44: \"Детектор лжи (Lie Detector)\"\n",
            "Song 45: \"До зимы (Before Winter)\"\n",
            "Song 46: \"До сих пор MC (Still MC)\"\n",
            "Song 47: \"Жук в муравейнике (Beetle in an anthill)\"\n",
            "Song 48: \"Интро (Intro II)\"\n",
            "Song 49: \"Йети и дети (Yeti and children)\"\n",
            "Song 50: \"Каменный Век Русской Поэзии (Stone Age of Russian Poetry)\"\n",
            "\n",
            "Reached user-specified song limit (50).\n",
            "Done. Found 50 songs.\n"
          ],
          "name": "stdout"
        }
      ]
    },
    {
      "cell_type": "code",
      "metadata": {
        "id": "12TBjtrlcm9z",
        "colab_type": "code",
        "outputId": "5097cd3f-ff5c-4816-b2e0-0a3922fdda7a",
        "colab": {
          "base_uri": "https://localhost:8080/",
          "height": 34
        }
      },
      "source": [
        "artist.save_lyrics(extension='txt')"
      ],
      "execution_count": 0,
      "outputs": [
        {
          "output_type": "stream",
          "text": [
            "Wrote `Lyrics_Oxxxymiron.txt`\n"
          ],
          "name": "stdout"
        }
      ]
    },
    {
      "cell_type": "code",
      "metadata": {
        "id": "8OS5Uhfjc-aH",
        "colab_type": "code",
        "colab": {}
      },
      "source": [
        "lyricss = open(\"Lyrics_Oxxxymiron.txt\",\"r\")"
      ],
      "execution_count": 0,
      "outputs": []
    },
    {
      "cell_type": "code",
      "metadata": {
        "id": "60bBj76vd9CP",
        "colab_type": "code",
        "colab": {}
      },
      "source": [
        "song4 = []\n",
        "for line in lyricss:\n",
        "  song4.append(word_tokenize(line, ))"
      ],
      "execution_count": 0,
      "outputs": []
    },
    {
      "cell_type": "code",
      "metadata": {
        "id": "4d2g05aGvLSt",
        "colab_type": "code",
        "colab": {}
      },
      "source": [
        "song7 = []\n",
        "for i in song4:\n",
        "  stroke = []\n",
        "  for j in i:\n",
        "    stroke.append(j.lower())\n",
        "  song7.append(stroke)\n"
      ],
      "execution_count": 0,
      "outputs": []
    },
    {
      "cell_type": "code",
      "metadata": {
        "id": "czJ7cSRvyJF0",
        "colab_type": "code",
        "colab": {}
      },
      "source": [
        "for strokes in song7:\n",
        "  strokes.append('\\n')"
      ],
      "execution_count": 0,
      "outputs": []
    },
    {
      "cell_type": "code",
      "metadata": {
        "id": "Z6nAcy9fvcTd",
        "colab_type": "code",
        "colab": {}
      },
      "source": [
        "song7"
      ],
      "execution_count": 0,
      "outputs": []
    },
    {
      "cell_type": "code",
      "metadata": {
        "id": "T3ruEXMISY5l",
        "colab_type": "code",
        "colab": {}
      },
      "source": [
        "from nltk.util import pad_sequence\n",
        "from nltk.util import bigrams\n",
        "from nltk.util import ngrams\n",
        "from nltk.util import everygrams\n",
        "from nltk.lm.preprocessing import pad_both_ends\n",
        "from nltk.lm.preprocessing import flatten"
      ],
      "execution_count": 0,
      "outputs": []
    },
    {
      "cell_type": "code",
      "metadata": {
        "id": "Cna4IX7sOoi1",
        "colab_type": "code",
        "colab": {}
      },
      "source": [
        "from nltk.lm import MLE\n",
        "model = MLE(2)"
      ],
      "execution_count": 0,
      "outputs": []
    },
    {
      "cell_type": "code",
      "metadata": {
        "id": "IygqXK7NmZ7g",
        "colab_type": "code",
        "colab": {}
      },
      "source": [
        "from nltk.lm import KneserNeyInterpolated"
      ],
      "execution_count": 0,
      "outputs": []
    },
    {
      "cell_type": "code",
      "metadata": {
        "id": "CtiWVXf7meSG",
        "colab_type": "code",
        "colab": {}
      },
      "source": [
        "model2 = KneserNeyInterpolated(2)"
      ],
      "execution_count": 0,
      "outputs": []
    },
    {
      "cell_type": "code",
      "metadata": {
        "id": "u8EUqRx1X0Bg",
        "colab_type": "code",
        "colab": {}
      },
      "source": [
        "from nltk.lm.preprocessing import padded_everygram_pipeline\n",
        "train3, vocabul3 = padded_everygram_pipeline(2, song7)"
      ],
      "execution_count": 0,
      "outputs": []
    },
    {
      "cell_type": "code",
      "metadata": {
        "id": "qYfA1N1eYozS",
        "colab_type": "code",
        "outputId": "25776898-684e-4b29-9ec3-1fca7579d3de",
        "colab": {
          "base_uri": "https://localhost:8080/",
          "height": 34
        }
      },
      "source": [
        "len(model.vocab)"
      ],
      "execution_count": 0,
      "outputs": [
        {
          "output_type": "execute_result",
          "data": {
            "text/plain": [
              "0"
            ]
          },
          "metadata": {
            "tags": []
          },
          "execution_count": 32
        }
      ]
    },
    {
      "cell_type": "code",
      "metadata": {
        "id": "21-SFVgDXXha",
        "colab_type": "code",
        "outputId": "80098c59-f2f5-41ea-e11f-5ff641147551",
        "colab": {
          "base_uri": "https://localhost:8080/",
          "height": 34
        }
      },
      "source": [
        "model.fit(train3, vocabul3)\n",
        "print(model.vocab)"
      ],
      "execution_count": 0,
      "outputs": [
        {
          "output_type": "stream",
          "text": [
            "<Vocabulary with cutoff=1 unk_label='<UNK>' and 8376 items>\n"
          ],
          "name": "stdout"
        }
      ]
    },
    {
      "cell_type": "code",
      "metadata": {
        "id": "SVfWHEcTmi76",
        "colab_type": "code",
        "outputId": "a6e6d429-162a-45a9-acbe-544717448950",
        "colab": {
          "base_uri": "https://localhost:8080/",
          "height": 34
        }
      },
      "source": [
        "model2.fit(train, vocabul)\n",
        "print(model2.vocab)"
      ],
      "execution_count": 0,
      "outputs": [
        {
          "output_type": "stream",
          "text": [
            "<Vocabulary with cutoff=1 unk_label='<UNK>' and 8376 items>\n"
          ],
          "name": "stdout"
        }
      ]
    },
    {
      "cell_type": "code",
      "metadata": {
        "id": "Z3G2wzSiZTKv",
        "colab_type": "code",
        "outputId": "f491bdc1-ebd9-4718-a8fa-fbf25bb942b6",
        "colab": {
          "base_uri": "https://localhost:8080/",
          "height": 34
        }
      },
      "source": [
        "print(model2.counts)"
      ],
      "execution_count": 0,
      "outputs": [
        {
          "output_type": "stream",
          "text": [
            "<NgramCounter with 2 ngram orders and 66527 ngrams>\n"
          ],
          "name": "stdout"
        }
      ]
    },
    {
      "cell_type": "code",
      "metadata": {
        "id": "QwufOVU3ZgbB",
        "colab_type": "code",
        "outputId": "7a74a4e2-6b7c-45f5-bce6-6ceecbf5204b",
        "colab": {
          "base_uri": "https://localhost:8080/",
          "height": 54
        }
      },
      "source": [
        "print(model.generate(20,random_seed = 41))"
      ],
      "execution_count": 0,
      "outputs": [
        {
          "output_type": "stream",
          "text": [
            "['I', 'don', '’', 'm', 'at', 'my', 'home', 'when', 'I', 'don', '’', 'm', 'at', 'my', 'home', 'when', 'I', 'don', '’', 'm']\n"
          ],
          "name": "stdout"
        }
      ]
    },
    {
      "cell_type": "code",
      "metadata": {
        "id": "gjnqdUwLZqxT",
        "colab_type": "code",
        "colab": {}
      },
      "source": [
        "from nltk.tokenize.treebank import TreebankWordDetokenizer\n",
        "\n",
        "detokenize = TreebankWordDetokenizer().detokenize\n",
        "\n",
        "def generate_sent(model, num_words, random_seed=42):\n",
        "    \"\"\"\n",
        "    :param model: An ngram language model from `nltk.lm.model`.\n",
        "    :param num_words: Max no. of words to generate.\n",
        "    :param random_seed: Seed value for random.\n",
        "    \"\"\"\n",
        "    content = []\n",
        "    for token in model.generate(num_words, random_seed=random_seed):\n",
        "        if token != '</s>':\n",
        "            content.append(token)\n",
        "    return detokenize(content)"
      ],
      "execution_count": 0,
      "outputs": []
    },
    {
      "cell_type": "code",
      "metadata": {
        "id": "GPyu5F8wZr_5",
        "colab_type": "code",
        "outputId": "632ef570-a299-448b-8d25-e6490d5c915d",
        "colab": {
          "base_uri": "https://localhost:8080/",
          "height": 54
        }
      },
      "source": [
        "print(generate_sent(model, 200, random_seed = 41))"
      ],
      "execution_count": 0,
      "outputs": [
        {
          "output_type": "stream",
          "text": [
            "<UNK>, едва заслышав, едва заслышав, едва заслышав, едва заслышав, едва заслышав, едва заслышав, едва заслышав, едва заслышав, едва заслышав, едва заслышав, едва заслышав, едва заслышав, едва заслышав, едва заслышав, едва заслышав, едва заслышав, едва заслышав, едва заслышав, едва заслышав, едва заслышав, едва заслышав, едва заслышав, едва заслышав, едва заслышав, едва заслышав, едва заслышав, едва заслышав, едва заслышав, едва заслышав, едва заслышав, едва заслышав, едва заслышав, едва заслышав, едва заслышав, едва заслышав, едва заслышав, едва заслышав, едва заслышав, едва заслышав, едва заслышав, едва заслышав, едва заслышав, едва заслышав, едва заслышав, едва заслышав, едва заслышав, едва заслышав, едва заслышав, едва заслышав, едва заслышав, едва заслышав, едва заслышав, едва заслышав, едва заслышав, едва заслышав, едва заслышав, едва заслышав, едва заслышав, едва заслышав, едва заслышав, едва заслышав, едва заслышав, едва заслышав, едва заслышав, едва заслышав, едва заслышав ,\n"
          ],
          "name": "stdout"
        }
      ]
    },
    {
      "cell_type": "code",
      "metadata": {
        "id": "fJzRlla-q_KI",
        "colab_type": "code",
        "outputId": "7346ee12-6c66-41f6-c139-4cde5c3d9bf5",
        "colab": {
          "base_uri": "https://localhost:8080/",
          "height": 153
        }
      },
      "source": [
        "artist = genius.search_artist(\"Oxxxymiron\", max_songs=3, sort=\"title\")"
      ],
      "execution_count": 0,
      "outputs": [
        {
          "output_type": "stream",
          "text": [
            "Searching for songs by Oxxxymiron...\n",
            "\n",
            "Song 1: \"16 Bars Acapella\"\n",
            "Song 2: \"Afterparty (Demo)\"\n",
            "Song 3: \"AI Ogon\"\n",
            "\n",
            "Reached user-specified song limit (3).\n",
            "Done. Found 3 songs.\n"
          ],
          "name": "stdout"
        }
      ]
    },
    {
      "cell_type": "code",
      "metadata": {
        "id": "GoUUcQwwLzMe",
        "colab_type": "code",
        "colab": {}
      },
      "source": [
        ""
      ],
      "execution_count": 0,
      "outputs": []
    },
    {
      "cell_type": "code",
      "metadata": {
        "id": "09mRjwM8OGkq",
        "colab_type": "code",
        "colab": {}
      },
      "source": [
        ""
      ],
      "execution_count": 0,
      "outputs": []
    },
    {
      "cell_type": "code",
      "metadata": {
        "id": "NwdmHBuRqnf7",
        "colab_type": "code",
        "colab": {}
      },
      "source": [
        "print(genius.search_song(\"16 Bars Acapella\", \"Oxxxymiron\").lyrics)"
      ],
      "execution_count": 0,
      "outputs": []
    },
    {
      "cell_type": "code",
      "metadata": {
        "id": "t3DKLI1uBXyI",
        "colab_type": "code",
        "outputId": "755fef7d-b543-4f69-fa61-e272b15f5c55",
        "colab": {
          "base_uri": "https://localhost:8080/",
          "height": 54
        }
      },
      "source": [
        "print(artist.songs)"
      ],
      "execution_count": 0,
      "outputs": [
        {
          "output_type": "stream",
          "text": [
            "[('Alexander All Alone', 'Andy Shauf'), ('All the Same', 'Andy Shauf'), ('Angela', 'Andy Shauf'), ('To You', 'Andy Shauf')]\n"
          ],
          "name": "stdout"
        }
      ]
    }
  ]
}